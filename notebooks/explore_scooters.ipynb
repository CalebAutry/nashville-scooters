{
 "cells": [
  {
   "cell_type": "code",
   "execution_count": 1,
   "metadata": {},
   "outputs": [],
   "source": [
    "import pandas as pd\n",
    "import pickle\n",
    "import matplotlib.pyplot as plt\n",
    "import seaborn as sns"
   ]
  },
  {
   "cell_type": "markdown",
   "metadata": {},
   "source": [
    "### Bird:0, Lyft:1, Gotcha:2, Lime:3, Spin:4, Jump:5, Bolt:6"
   ]
  },
  {
   "cell_type": "code",
   "execution_count": 2,
   "metadata": {},
   "outputs": [
    {
     "name": "stdout",
     "output_type": "stream",
     "text": [
      "CPU times: user 2.59 s, sys: 2.6 s, total: 5.19 s\n",
      "Wall time: 5.21 s\n"
     ]
    }
   ],
   "source": [
    "%%time\n",
    "july = pd.read_pickle('../data/july.pkl')\n",
    "june = pd.read_pickle('../data/june.pkl')\n",
    "may = pd.read_pickle('../data/may.pkl')"
   ]
  },
  {
   "cell_type": "code",
   "execution_count": 3,
   "metadata": {},
   "outputs": [
    {
     "name": "stdout",
     "output_type": "stream",
     "text": [
      "CPU times: user 6.59 s, sys: 579 ms, total: 7.16 s\n",
      "Wall time: 7.18 s\n"
     ]
    }
   ],
   "source": [
    "%%time\n",
    "trip_july = pd.read_csv('../data/july_trip.csv')\n",
    "trip_june = pd.read_csv('../data/june_trip.csv')\n",
    "trip_may = pd.read_csv('../data/may_trip.csv')\n",
    "# trip_july = pd.read_pickle('../data/july_trip_clean.pkl')\n",
    "# trip_june = pd.read_pickle('../data/june_trip_clean.pkl')\n",
    "# trip_may = pd.read_pickle('../data/may_trip_clean.pkl')"
   ]
  },
  {
   "cell_type": "code",
   "execution_count": 4,
   "metadata": {},
   "outputs": [
    {
     "data": {
      "text/html": [
       "<div>\n",
       "<style scoped>\n",
       "    .dataframe tbody tr th:only-of-type {\n",
       "        vertical-align: middle;\n",
       "    }\n",
       "\n",
       "    .dataframe tbody tr th {\n",
       "        vertical-align: top;\n",
       "    }\n",
       "\n",
       "    .dataframe thead th {\n",
       "        text-align: right;\n",
       "    }\n",
       "</style>\n",
       "<table border=\"1\" class=\"dataframe\">\n",
       "  <thead>\n",
       "    <tr style=\"text-align: right;\">\n",
       "      <th></th>\n",
       "      <th>pubdatetime</th>\n",
       "      <th>latitude</th>\n",
       "      <th>longitude</th>\n",
       "      <th>sumdid</th>\n",
       "      <th>chargelevel</th>\n",
       "      <th>companyname</th>\n",
       "    </tr>\n",
       "  </thead>\n",
       "  <tbody>\n",
       "    <tr>\n",
       "      <th>0</th>\n",
       "      <td>2019-07-01 00:00:33.550</td>\n",
       "      <td>36.156678</td>\n",
       "      <td>-86.809004</td>\n",
       "      <td>Powered635135</td>\n",
       "      <td>22.0</td>\n",
       "      <td>1</td>\n",
       "    </tr>\n",
       "    <tr>\n",
       "      <th>1</th>\n",
       "      <td>2019-07-01 00:00:34.973</td>\n",
       "      <td>36.145674</td>\n",
       "      <td>-86.794138</td>\n",
       "      <td>Powered790946</td>\n",
       "      <td>33.0</td>\n",
       "      <td>1</td>\n",
       "    </tr>\n",
       "    <tr>\n",
       "      <th>2</th>\n",
       "      <td>2019-07-01 00:00:41.183</td>\n",
       "      <td>36.179319</td>\n",
       "      <td>-86.751538</td>\n",
       "      <td>Powered570380</td>\n",
       "      <td>76.0</td>\n",
       "      <td>1</td>\n",
       "    </tr>\n",
       "    <tr>\n",
       "      <th>3</th>\n",
       "      <td>2019-07-01 00:00:41.620</td>\n",
       "      <td>36.152111</td>\n",
       "      <td>-86.803821</td>\n",
       "      <td>Powered240631</td>\n",
       "      <td>43.0</td>\n",
       "      <td>1</td>\n",
       "    </tr>\n",
       "    <tr>\n",
       "      <th>4</th>\n",
       "      <td>2019-07-01 00:00:45.087</td>\n",
       "      <td>36.149355</td>\n",
       "      <td>-86.797550</td>\n",
       "      <td>Powered970404</td>\n",
       "      <td>52.0</td>\n",
       "      <td>1</td>\n",
       "    </tr>\n",
       "  </tbody>\n",
       "</table>\n",
       "</div>"
      ],
      "text/plain": [
       "              pubdatetime   latitude  longitude         sumdid  chargelevel  \\\n",
       "0 2019-07-01 00:00:33.550  36.156678 -86.809004  Powered635135         22.0   \n",
       "1 2019-07-01 00:00:34.973  36.145674 -86.794138  Powered790946         33.0   \n",
       "2 2019-07-01 00:00:41.183  36.179319 -86.751538  Powered570380         76.0   \n",
       "3 2019-07-01 00:00:41.620  36.152111 -86.803821  Powered240631         43.0   \n",
       "4 2019-07-01 00:00:45.087  36.149355 -86.797550  Powered970404         52.0   \n",
       "\n",
       "   companyname  \n",
       "0            1  \n",
       "1            1  \n",
       "2            1  \n",
       "3            1  \n",
       "4            1  "
      ]
     },
     "execution_count": 4,
     "metadata": {},
     "output_type": "execute_result"
    }
   ],
   "source": [
    "july.head()"
   ]
  },
  {
   "cell_type": "code",
   "execution_count": 5,
   "metadata": {},
   "outputs": [
    {
     "data": {
      "text/html": [
       "<div>\n",
       "<style scoped>\n",
       "    .dataframe tbody tr th:only-of-type {\n",
       "        vertical-align: middle;\n",
       "    }\n",
       "\n",
       "    .dataframe tbody tr th {\n",
       "        vertical-align: top;\n",
       "    }\n",
       "\n",
       "    .dataframe thead th {\n",
       "        text-align: right;\n",
       "    }\n",
       "</style>\n",
       "<table border=\"1\" class=\"dataframe\">\n",
       "  <thead>\n",
       "    <tr style=\"text-align: right;\">\n",
       "      <th></th>\n",
       "      <th>pubdatetime</th>\n",
       "      <th>latitude</th>\n",
       "      <th>longitude</th>\n",
       "      <th>sumdid</th>\n",
       "      <th>chargelevel</th>\n",
       "      <th>companyname</th>\n",
       "    </tr>\n",
       "  </thead>\n",
       "  <tbody>\n",
       "    <tr>\n",
       "      <th>25075440</th>\n",
       "      <td>2019-07-31 23:59:57</td>\n",
       "      <td>36.162420</td>\n",
       "      <td>-86.779314</td>\n",
       "      <td>Powered-1a8321d0-5c21-04a4-bd7d-7b96ba51f17b</td>\n",
       "      <td>100.00</td>\n",
       "      <td>6</td>\n",
       "    </tr>\n",
       "    <tr>\n",
       "      <th>25075441</th>\n",
       "      <td>2019-07-31 23:59:57</td>\n",
       "      <td>36.146010</td>\n",
       "      <td>-86.810197</td>\n",
       "      <td>Powered-bd4ba83b-513f-ed5c-3c51-b4f51e7fdc51</td>\n",
       "      <td>100.00</td>\n",
       "      <td>6</td>\n",
       "    </tr>\n",
       "    <tr>\n",
       "      <th>25075442</th>\n",
       "      <td>2019-07-31 23:59:57</td>\n",
       "      <td>36.165837</td>\n",
       "      <td>-86.777765</td>\n",
       "      <td>Powered-cc9c0b7e-2b9e-def9-e48b-1a8a489c4daf</td>\n",
       "      <td>71.68</td>\n",
       "      <td>6</td>\n",
       "    </tr>\n",
       "    <tr>\n",
       "      <th>25075443</th>\n",
       "      <td>2019-07-31 23:59:57</td>\n",
       "      <td>36.149792</td>\n",
       "      <td>-86.806818</td>\n",
       "      <td>Powered-55a7ac02-7e17-bb3b-130d-b160d9776405</td>\n",
       "      <td>0.00</td>\n",
       "      <td>6</td>\n",
       "    </tr>\n",
       "    <tr>\n",
       "      <th>25075444</th>\n",
       "      <td>2019-07-31 23:59:57</td>\n",
       "      <td>36.162644</td>\n",
       "      <td>-86.779345</td>\n",
       "      <td>Powered-03be23ca-d43b-222f-be54-e44b5b4690df</td>\n",
       "      <td>100.00</td>\n",
       "      <td>6</td>\n",
       "    </tr>\n",
       "  </tbody>\n",
       "</table>\n",
       "</div>"
      ],
      "text/plain": [
       "                 pubdatetime   latitude  longitude  \\\n",
       "25075440 2019-07-31 23:59:57  36.162420 -86.779314   \n",
       "25075441 2019-07-31 23:59:57  36.146010 -86.810197   \n",
       "25075442 2019-07-31 23:59:57  36.165837 -86.777765   \n",
       "25075443 2019-07-31 23:59:57  36.149792 -86.806818   \n",
       "25075444 2019-07-31 23:59:57  36.162644 -86.779345   \n",
       "\n",
       "                                                sumdid  chargelevel  \\\n",
       "25075440  Powered-1a8321d0-5c21-04a4-bd7d-7b96ba51f17b       100.00   \n",
       "25075441  Powered-bd4ba83b-513f-ed5c-3c51-b4f51e7fdc51       100.00   \n",
       "25075442  Powered-cc9c0b7e-2b9e-def9-e48b-1a8a489c4daf        71.68   \n",
       "25075443  Powered-55a7ac02-7e17-bb3b-130d-b160d9776405         0.00   \n",
       "25075444  Powered-03be23ca-d43b-222f-be54-e44b5b4690df       100.00   \n",
       "\n",
       "          companyname  \n",
       "25075440            6  \n",
       "25075441            6  \n",
       "25075442            6  \n",
       "25075443            6  \n",
       "25075444            6  "
      ]
     },
     "execution_count": 5,
     "metadata": {},
     "output_type": "execute_result"
    }
   ],
   "source": [
    "july.tail()"
   ]
  },
  {
   "cell_type": "code",
   "execution_count": 6,
   "metadata": {},
   "outputs": [
    {
     "name": "stdout",
     "output_type": "stream",
     "text": [
      "<class 'pandas.core.frame.DataFrame'>\n",
      "Int64Index: 25066524 entries, 0 to 25075444\n",
      "Data columns (total 6 columns):\n",
      " #   Column       Dtype         \n",
      "---  ------       -----         \n",
      " 0   pubdatetime  datetime64[ns]\n",
      " 1   latitude     float64       \n",
      " 2   longitude    float64       \n",
      " 3   sumdid       object        \n",
      " 4   chargelevel  float64       \n",
      " 5   companyname  int64         \n",
      "dtypes: datetime64[ns](1), float64(3), int64(1), object(1)\n",
      "memory usage: 1.3+ GB\n"
     ]
    }
   ],
   "source": [
    "july.info()"
   ]
  },
  {
   "cell_type": "code",
   "execution_count": 7,
   "metadata": {},
   "outputs": [
    {
     "data": {
      "text/html": [
       "<div>\n",
       "<style scoped>\n",
       "    .dataframe tbody tr th:only-of-type {\n",
       "        vertical-align: middle;\n",
       "    }\n",
       "\n",
       "    .dataframe tbody tr th {\n",
       "        vertical-align: top;\n",
       "    }\n",
       "\n",
       "    .dataframe thead th {\n",
       "        text-align: right;\n",
       "    }\n",
       "</style>\n",
       "<table border=\"1\" class=\"dataframe\">\n",
       "  <thead>\n",
       "    <tr style=\"text-align: right;\">\n",
       "      <th></th>\n",
       "      <th>pubdatetime</th>\n",
       "      <th>latitude</th>\n",
       "      <th>longitude</th>\n",
       "      <th>sumdid</th>\n",
       "      <th>chargelevel</th>\n",
       "      <th>companyname</th>\n",
       "    </tr>\n",
       "  </thead>\n",
       "  <tbody>\n",
       "    <tr>\n",
       "      <th>0</th>\n",
       "      <td>2019-06-01 00:00:12</td>\n",
       "      <td>36.1202</td>\n",
       "      <td>-86.7534</td>\n",
       "      <td>Powered93627c35-0f62-5b81-a78d-75a4a92ecf47</td>\n",
       "      <td>90.0</td>\n",
       "      <td>5</td>\n",
       "    </tr>\n",
       "    <tr>\n",
       "      <th>1</th>\n",
       "      <td>2019-06-01 00:00:12</td>\n",
       "      <td>36.1630</td>\n",
       "      <td>-86.7765</td>\n",
       "      <td>Powered17715097-e8a0-5494-a5ab-9b625796607d</td>\n",
       "      <td>63.0</td>\n",
       "      <td>5</td>\n",
       "    </tr>\n",
       "    <tr>\n",
       "      <th>2</th>\n",
       "      <td>2019-06-01 00:00:12</td>\n",
       "      <td>36.1202</td>\n",
       "      <td>-86.7533</td>\n",
       "      <td>Powerede5cb95ae-b091-5a93-86fa-ededd946d0d7</td>\n",
       "      <td>77.0</td>\n",
       "      <td>5</td>\n",
       "    </tr>\n",
       "    <tr>\n",
       "      <th>3</th>\n",
       "      <td>2019-06-01 00:00:12</td>\n",
       "      <td>36.1201</td>\n",
       "      <td>-86.7530</td>\n",
       "      <td>Powered71fa5e4f-1e17-54c4-936d-330df38cc2fa</td>\n",
       "      <td>0.0</td>\n",
       "      <td>5</td>\n",
       "    </tr>\n",
       "    <tr>\n",
       "      <th>4</th>\n",
       "      <td>2019-06-01 00:00:12</td>\n",
       "      <td>36.1622</td>\n",
       "      <td>-86.7806</td>\n",
       "      <td>Poweredfa549dd6-40bb-5757-ac87-2c2528f2bc68</td>\n",
       "      <td>2.0</td>\n",
       "      <td>5</td>\n",
       "    </tr>\n",
       "  </tbody>\n",
       "</table>\n",
       "</div>"
      ],
      "text/plain": [
       "          pubdatetime  latitude  longitude  \\\n",
       "0 2019-06-01 00:00:12   36.1202   -86.7534   \n",
       "1 2019-06-01 00:00:12   36.1630   -86.7765   \n",
       "2 2019-06-01 00:00:12   36.1202   -86.7533   \n",
       "3 2019-06-01 00:00:12   36.1201   -86.7530   \n",
       "4 2019-06-01 00:00:12   36.1622   -86.7806   \n",
       "\n",
       "                                        sumdid  chargelevel  companyname  \n",
       "0  Powered93627c35-0f62-5b81-a78d-75a4a92ecf47         90.0            5  \n",
       "1  Powered17715097-e8a0-5494-a5ab-9b625796607d         63.0            5  \n",
       "2  Powerede5cb95ae-b091-5a93-86fa-ededd946d0d7         77.0            5  \n",
       "3  Powered71fa5e4f-1e17-54c4-936d-330df38cc2fa          0.0            5  \n",
       "4  Poweredfa549dd6-40bb-5757-ac87-2c2528f2bc68          2.0            5  "
      ]
     },
     "execution_count": 7,
     "metadata": {},
     "output_type": "execute_result"
    }
   ],
   "source": [
    "june.head()"
   ]
  },
  {
   "cell_type": "code",
   "execution_count": 8,
   "metadata": {},
   "outputs": [
    {
     "data": {
      "text/html": [
       "<div>\n",
       "<style scoped>\n",
       "    .dataframe tbody tr th:only-of-type {\n",
       "        vertical-align: middle;\n",
       "    }\n",
       "\n",
       "    .dataframe tbody tr th {\n",
       "        vertical-align: top;\n",
       "    }\n",
       "\n",
       "    .dataframe thead th {\n",
       "        text-align: right;\n",
       "    }\n",
       "</style>\n",
       "<table border=\"1\" class=\"dataframe\">\n",
       "  <thead>\n",
       "    <tr style=\"text-align: right;\">\n",
       "      <th></th>\n",
       "      <th>pubdatetime</th>\n",
       "      <th>latitude</th>\n",
       "      <th>longitude</th>\n",
       "      <th>sumdid</th>\n",
       "      <th>chargelevel</th>\n",
       "      <th>companyname</th>\n",
       "    </tr>\n",
       "  </thead>\n",
       "  <tbody>\n",
       "    <tr>\n",
       "      <th>28037403</th>\n",
       "      <td>2019-06-30 23:59:55.273</td>\n",
       "      <td>36.125567</td>\n",
       "      <td>-86.776982</td>\n",
       "      <td>PoweredZYNSVOII2QSLD</td>\n",
       "      <td>100.0</td>\n",
       "      <td>3</td>\n",
       "    </tr>\n",
       "    <tr>\n",
       "      <th>28037404</th>\n",
       "      <td>2019-06-30 23:59:55.273</td>\n",
       "      <td>36.121717</td>\n",
       "      <td>-86.775207</td>\n",
       "      <td>PoweredXOPAIWGL7SF62</td>\n",
       "      <td>93.0</td>\n",
       "      <td>3</td>\n",
       "    </tr>\n",
       "    <tr>\n",
       "      <th>28037405</th>\n",
       "      <td>2019-06-30 23:59:55.273</td>\n",
       "      <td>36.127046</td>\n",
       "      <td>-86.777262</td>\n",
       "      <td>PoweredBYKFOWELGPKH6</td>\n",
       "      <td>61.0</td>\n",
       "      <td>3</td>\n",
       "    </tr>\n",
       "    <tr>\n",
       "      <th>28037406</th>\n",
       "      <td>2019-06-30 23:59:55.273</td>\n",
       "      <td>36.123775</td>\n",
       "      <td>-86.790115</td>\n",
       "      <td>PoweredIAAQ7WODYXON7</td>\n",
       "      <td>35.0</td>\n",
       "      <td>3</td>\n",
       "    </tr>\n",
       "    <tr>\n",
       "      <th>28037407</th>\n",
       "      <td>2019-06-30 23:59:55.273</td>\n",
       "      <td>36.121735</td>\n",
       "      <td>-86.775148</td>\n",
       "      <td>Powered3HJPPUNVYGL45</td>\n",
       "      <td>96.0</td>\n",
       "      <td>3</td>\n",
       "    </tr>\n",
       "  </tbody>\n",
       "</table>\n",
       "</div>"
      ],
      "text/plain": [
       "                     pubdatetime   latitude  longitude                sumdid  \\\n",
       "28037403 2019-06-30 23:59:55.273  36.125567 -86.776982  PoweredZYNSVOII2QSLD   \n",
       "28037404 2019-06-30 23:59:55.273  36.121717 -86.775207  PoweredXOPAIWGL7SF62   \n",
       "28037405 2019-06-30 23:59:55.273  36.127046 -86.777262  PoweredBYKFOWELGPKH6   \n",
       "28037406 2019-06-30 23:59:55.273  36.123775 -86.790115  PoweredIAAQ7WODYXON7   \n",
       "28037407 2019-06-30 23:59:55.273  36.121735 -86.775148  Powered3HJPPUNVYGL45   \n",
       "\n",
       "          chargelevel  companyname  \n",
       "28037403        100.0            3  \n",
       "28037404         93.0            3  \n",
       "28037405         61.0            3  \n",
       "28037406         35.0            3  \n",
       "28037407         96.0            3  "
      ]
     },
     "execution_count": 8,
     "metadata": {},
     "output_type": "execute_result"
    }
   ],
   "source": [
    "june.tail()"
   ]
  },
  {
   "cell_type": "code",
   "execution_count": 9,
   "metadata": {},
   "outputs": [
    {
     "name": "stdout",
     "output_type": "stream",
     "text": [
      "<class 'pandas.core.frame.DataFrame'>\n",
      "RangeIndex: 28037408 entries, 0 to 28037407\n",
      "Data columns (total 6 columns):\n",
      " #   Column       Dtype         \n",
      "---  ------       -----         \n",
      " 0   pubdatetime  datetime64[ns]\n",
      " 1   latitude     float64       \n",
      " 2   longitude    float64       \n",
      " 3   sumdid       object        \n",
      " 4   chargelevel  float64       \n",
      " 5   companyname  int64         \n",
      "dtypes: datetime64[ns](1), float64(3), int64(1), object(1)\n",
      "memory usage: 1.3+ GB\n"
     ]
    }
   ],
   "source": [
    "june.info()"
   ]
  },
  {
   "cell_type": "code",
   "execution_count": 10,
   "metadata": {},
   "outputs": [
    {
     "data": {
      "text/html": [
       "<div>\n",
       "<style scoped>\n",
       "    .dataframe tbody tr th:only-of-type {\n",
       "        vertical-align: middle;\n",
       "    }\n",
       "\n",
       "    .dataframe tbody tr th {\n",
       "        vertical-align: top;\n",
       "    }\n",
       "\n",
       "    .dataframe thead th {\n",
       "        text-align: right;\n",
       "    }\n",
       "</style>\n",
       "<table border=\"1\" class=\"dataframe\">\n",
       "  <thead>\n",
       "    <tr style=\"text-align: right;\">\n",
       "      <th></th>\n",
       "      <th>pubdatetime</th>\n",
       "      <th>latitude</th>\n",
       "      <th>longitude</th>\n",
       "      <th>sumdid</th>\n",
       "      <th>chargelevel</th>\n",
       "      <th>companyname</th>\n",
       "    </tr>\n",
       "  </thead>\n",
       "  <tbody>\n",
       "    <tr>\n",
       "      <th>0</th>\n",
       "      <td>2019-05-01 00:01:41.247</td>\n",
       "      <td>36.136822</td>\n",
       "      <td>-86.799877</td>\n",
       "      <td>PoweredLIRL1</td>\n",
       "      <td>93.0</td>\n",
       "      <td>0</td>\n",
       "    </tr>\n",
       "    <tr>\n",
       "      <th>1</th>\n",
       "      <td>2019-05-01 00:01:41.247</td>\n",
       "      <td>36.191252</td>\n",
       "      <td>-86.772945</td>\n",
       "      <td>PoweredXWRWC</td>\n",
       "      <td>35.0</td>\n",
       "      <td>0</td>\n",
       "    </tr>\n",
       "    <tr>\n",
       "      <th>2</th>\n",
       "      <td>2019-05-01 00:01:41.247</td>\n",
       "      <td>36.144752</td>\n",
       "      <td>-86.806293</td>\n",
       "      <td>PoweredMEJEH</td>\n",
       "      <td>90.0</td>\n",
       "      <td>0</td>\n",
       "    </tr>\n",
       "    <tr>\n",
       "      <th>3</th>\n",
       "      <td>2019-05-01 00:01:41.247</td>\n",
       "      <td>36.162056</td>\n",
       "      <td>-86.774688</td>\n",
       "      <td>Powered1A7TC</td>\n",
       "      <td>88.0</td>\n",
       "      <td>0</td>\n",
       "    </tr>\n",
       "    <tr>\n",
       "      <th>4</th>\n",
       "      <td>2019-05-01 00:01:41.247</td>\n",
       "      <td>36.150973</td>\n",
       "      <td>-86.783109</td>\n",
       "      <td>Powered2TYEF</td>\n",
       "      <td>98.0</td>\n",
       "      <td>0</td>\n",
       "    </tr>\n",
       "  </tbody>\n",
       "</table>\n",
       "</div>"
      ],
      "text/plain": [
       "              pubdatetime   latitude  longitude        sumdid  chargelevel  \\\n",
       "0 2019-05-01 00:01:41.247  36.136822 -86.799877  PoweredLIRL1         93.0   \n",
       "1 2019-05-01 00:01:41.247  36.191252 -86.772945  PoweredXWRWC         35.0   \n",
       "2 2019-05-01 00:01:41.247  36.144752 -86.806293  PoweredMEJEH         90.0   \n",
       "3 2019-05-01 00:01:41.247  36.162056 -86.774688  Powered1A7TC         88.0   \n",
       "4 2019-05-01 00:01:41.247  36.150973 -86.783109  Powered2TYEF         98.0   \n",
       "\n",
       "   companyname  \n",
       "0            0  \n",
       "1            0  \n",
       "2            0  \n",
       "3            0  \n",
       "4            0  "
      ]
     },
     "execution_count": 10,
     "metadata": {},
     "output_type": "execute_result"
    }
   ],
   "source": [
    "may.head()"
   ]
  },
  {
   "cell_type": "code",
   "execution_count": 11,
   "metadata": {},
   "outputs": [
    {
     "data": {
      "text/html": [
       "<div>\n",
       "<style scoped>\n",
       "    .dataframe tbody tr th:only-of-type {\n",
       "        vertical-align: middle;\n",
       "    }\n",
       "\n",
       "    .dataframe tbody tr th {\n",
       "        vertical-align: top;\n",
       "    }\n",
       "\n",
       "    .dataframe thead th {\n",
       "        text-align: right;\n",
       "    }\n",
       "</style>\n",
       "<table border=\"1\" class=\"dataframe\">\n",
       "  <thead>\n",
       "    <tr style=\"text-align: right;\">\n",
       "      <th></th>\n",
       "      <th>pubdatetime</th>\n",
       "      <th>latitude</th>\n",
       "      <th>longitude</th>\n",
       "      <th>sumdid</th>\n",
       "      <th>chargelevel</th>\n",
       "      <th>companyname</th>\n",
       "    </tr>\n",
       "  </thead>\n",
       "  <tbody>\n",
       "    <tr>\n",
       "      <th>20283577</th>\n",
       "      <td>2019-05-31 23:59:42</td>\n",
       "      <td>36.1639</td>\n",
       "      <td>-86.7823</td>\n",
       "      <td>Poweredbb60ef04-c719-597f-805f-20978964fd8c</td>\n",
       "      <td>49.0</td>\n",
       "      <td>5</td>\n",
       "    </tr>\n",
       "    <tr>\n",
       "      <th>20283578</th>\n",
       "      <td>2019-05-31 23:59:42</td>\n",
       "      <td>36.1606</td>\n",
       "      <td>-86.7768</td>\n",
       "      <td>Powered9f5743ed-7f81-539b-9e37-6503d54445d3</td>\n",
       "      <td>68.0</td>\n",
       "      <td>5</td>\n",
       "    </tr>\n",
       "    <tr>\n",
       "      <th>20283579</th>\n",
       "      <td>2019-05-31 23:59:42</td>\n",
       "      <td>36.1606</td>\n",
       "      <td>-86.7769</td>\n",
       "      <td>Powered5744d1db-3bbe-55e5-9a23-a93828ba54fc</td>\n",
       "      <td>53.0</td>\n",
       "      <td>5</td>\n",
       "    </tr>\n",
       "    <tr>\n",
       "      <th>20283580</th>\n",
       "      <td>2019-05-31 23:59:42</td>\n",
       "      <td>36.1624</td>\n",
       "      <td>-86.7745</td>\n",
       "      <td>Poweredad1d6d3b-162a-5bec-bffd-cac4ac8dee1c</td>\n",
       "      <td>42.0</td>\n",
       "      <td>5</td>\n",
       "    </tr>\n",
       "    <tr>\n",
       "      <th>20283581</th>\n",
       "      <td>2019-05-31 23:59:42</td>\n",
       "      <td>36.1519</td>\n",
       "      <td>-86.7985</td>\n",
       "      <td>Powered8505008e-97c9-5003-8975-2ea6b2634fa0</td>\n",
       "      <td>76.0</td>\n",
       "      <td>5</td>\n",
       "    </tr>\n",
       "  </tbody>\n",
       "</table>\n",
       "</div>"
      ],
      "text/plain": [
       "                 pubdatetime  latitude  longitude  \\\n",
       "20283577 2019-05-31 23:59:42   36.1639   -86.7823   \n",
       "20283578 2019-05-31 23:59:42   36.1606   -86.7768   \n",
       "20283579 2019-05-31 23:59:42   36.1606   -86.7769   \n",
       "20283580 2019-05-31 23:59:42   36.1624   -86.7745   \n",
       "20283581 2019-05-31 23:59:42   36.1519   -86.7985   \n",
       "\n",
       "                                               sumdid  chargelevel  \\\n",
       "20283577  Poweredbb60ef04-c719-597f-805f-20978964fd8c         49.0   \n",
       "20283578  Powered9f5743ed-7f81-539b-9e37-6503d54445d3         68.0   \n",
       "20283579  Powered5744d1db-3bbe-55e5-9a23-a93828ba54fc         53.0   \n",
       "20283580  Poweredad1d6d3b-162a-5bec-bffd-cac4ac8dee1c         42.0   \n",
       "20283581  Powered8505008e-97c9-5003-8975-2ea6b2634fa0         76.0   \n",
       "\n",
       "          companyname  \n",
       "20283577            5  \n",
       "20283578            5  \n",
       "20283579            5  \n",
       "20283580            5  \n",
       "20283581            5  "
      ]
     },
     "execution_count": 11,
     "metadata": {},
     "output_type": "execute_result"
    }
   ],
   "source": [
    "may.tail()"
   ]
  },
  {
   "cell_type": "code",
   "execution_count": 12,
   "metadata": {},
   "outputs": [
    {
     "data": {
      "text/plain": [
       "885"
      ]
     },
     "execution_count": 12,
     "metadata": {},
     "output_type": "execute_result"
    }
   ],
   "source": [
    "may.chargelevel.nunique()"
   ]
  },
  {
   "cell_type": "code",
   "execution_count": 13,
   "metadata": {},
   "outputs": [
    {
     "name": "stdout",
     "output_type": "stream",
     "text": [
      "<class 'pandas.core.frame.DataFrame'>\n",
      "RangeIndex: 20283582 entries, 0 to 20283581\n",
      "Data columns (total 6 columns):\n",
      " #   Column       Dtype         \n",
      "---  ------       -----         \n",
      " 0   pubdatetime  datetime64[ns]\n",
      " 1   latitude     float64       \n",
      " 2   longitude    float64       \n",
      " 3   sumdid       object        \n",
      " 4   chargelevel  float64       \n",
      " 5   companyname  int64         \n",
      "dtypes: datetime64[ns](1), float64(3), int64(1), object(1)\n",
      "memory usage: 928.5+ MB\n"
     ]
    }
   ],
   "source": [
    "may.info()"
   ]
  },
  {
   "cell_type": "code",
   "execution_count": 14,
   "metadata": {},
   "outputs": [
    {
     "name": "stdout",
     "output_type": "stream",
     "text": [
      "july trip (134926, 16)\n",
      "-----\n",
      "june trip (205627, 16)\n",
      "-----\n",
      "may trip (224969, 16)\n"
     ]
    }
   ],
   "source": [
    "print('july trip',trip_july.shape)\n",
    "print('-----')\n",
    "print('june trip',trip_june.shape)\n",
    "print('-----')\n",
    "print('may trip',trip_may.shape)"
   ]
  },
  {
   "cell_type": "code",
   "execution_count": 15,
   "metadata": {},
   "outputs": [
    {
     "name": "stdout",
     "output_type": "stream",
     "text": [
      "July trip\n",
      " Bird             44235\n",
      "Lime             38397\n",
      "Lyft             28899\n",
      "SPIN             11685\n",
      "Bolt Mobility     6759\n",
      "JUMP              4089\n",
      "Gotcha             862\n",
      "Name: companyName, dtype: int64\n",
      "-----\n",
      "June trip\n",
      " Lime             84728\n",
      "Bird             55014\n",
      "Lyft             37821\n",
      "SPIN             14294\n",
      "Bolt Mobility    10219\n",
      "Gotcha            1803\n",
      "JUMP              1748\n",
      "Name: companyName, dtype: int64\n",
      "-----\n",
      "May trip\n",
      " Lime             102569\n",
      "Lyft              54271\n",
      "Bird              53496\n",
      "SPIN               8471\n",
      "Bolt Mobility      4912\n",
      "Gotcha              650\n",
      "JUMP                600\n",
      "Name: companyName, dtype: int64\n"
     ]
    }
   ],
   "source": [
    "print('July trip\\n',trip_july['companyName'].value_counts())\n",
    "print('-----')\n",
    "print('June trip\\n',trip_june['companyName'].value_counts())\n",
    "print('-----')\n",
    "print('May trip\\n',trip_may['companyName'].value_counts())"
   ]
  },
  {
   "cell_type": "code",
   "execution_count": 16,
   "metadata": {},
   "outputs": [
    {
     "data": {
      "text/html": [
       "<div>\n",
       "<style scoped>\n",
       "    .dataframe tbody tr th:only-of-type {\n",
       "        vertical-align: middle;\n",
       "    }\n",
       "\n",
       "    .dataframe tbody tr th {\n",
       "        vertical-align: top;\n",
       "    }\n",
       "\n",
       "    .dataframe thead th {\n",
       "        text-align: right;\n",
       "    }\n",
       "</style>\n",
       "<table border=\"1\" class=\"dataframe\">\n",
       "  <thead>\n",
       "    <tr style=\"text-align: right;\">\n",
       "      <th></th>\n",
       "      <th>pubTimeStamp</th>\n",
       "      <th>companyName</th>\n",
       "      <th>tripRecordNum</th>\n",
       "      <th>sumdID</th>\n",
       "      <th>tripDuration</th>\n",
       "      <th>tripDistance</th>\n",
       "      <th>startDate</th>\n",
       "      <th>startTime</th>\n",
       "      <th>endDate</th>\n",
       "      <th>endTime</th>\n",
       "      <th>startLatitude</th>\n",
       "      <th>startLongitude</th>\n",
       "      <th>endLatitude</th>\n",
       "      <th>endLongitude</th>\n",
       "      <th>tripRoute</th>\n",
       "      <th>create_dt</th>\n",
       "    </tr>\n",
       "  </thead>\n",
       "  <tbody>\n",
       "    <tr>\n",
       "      <th>224964</th>\n",
       "      <td>2019-06-01 23:50:42.373000</td>\n",
       "      <td>Lime</td>\n",
       "      <td>LIM5241</td>\n",
       "      <td>PoweredJ6OI7QJIK4NO2</td>\n",
       "      <td>62.316667</td>\n",
       "      <td>0.00000</td>\n",
       "      <td>2019-05-31 00:00:00</td>\n",
       "      <td>23:16:25</td>\n",
       "      <td>2019-06-01 00:00:00</td>\n",
       "      <td>00:18:44</td>\n",
       "      <td>36.131741</td>\n",
       "      <td>-86.779007</td>\n",
       "      <td>36.155466</td>\n",
       "      <td>-86.779859</td>\n",
       "      <td>[[36.1317,-86.77903]]</td>\n",
       "      <td>2019-06-02 08:04:56.923000</td>\n",
       "    </tr>\n",
       "    <tr>\n",
       "      <th>224965</th>\n",
       "      <td>2019-06-01 23:50:42.397000</td>\n",
       "      <td>Lime</td>\n",
       "      <td>LIM5285</td>\n",
       "      <td>PoweredQDVYGLDL6ZQDU</td>\n",
       "      <td>22.383333</td>\n",
       "      <td>9337.15680</td>\n",
       "      <td>2019-05-31 00:00:00</td>\n",
       "      <td>23:59:45</td>\n",
       "      <td>2019-06-01 00:00:00</td>\n",
       "      <td>00:22:08</td>\n",
       "      <td>36.126207</td>\n",
       "      <td>-86.789366</td>\n",
       "      <td>36.149205</td>\n",
       "      <td>-86.786162</td>\n",
       "      <td>[[36.12621,-86.78937],[36.125840000000004,-86....</td>\n",
       "      <td>2019-06-02 08:04:58.683000</td>\n",
       "    </tr>\n",
       "    <tr>\n",
       "      <th>224966</th>\n",
       "      <td>2019-06-01 23:50:42.480000</td>\n",
       "      <td>Lime</td>\n",
       "      <td>LIM5413</td>\n",
       "      <td>PoweredH5HCTZB5WVABT</td>\n",
       "      <td>40.200000</td>\n",
       "      <td>20951.18880</td>\n",
       "      <td>2019-05-31 00:00:00</td>\n",
       "      <td>23:31:19</td>\n",
       "      <td>2019-06-01 00:00:00</td>\n",
       "      <td>00:11:31</td>\n",
       "      <td>36.126730</td>\n",
       "      <td>-86.778251</td>\n",
       "      <td>36.143138</td>\n",
       "      <td>-86.793144</td>\n",
       "      <td>[[36.12673,-86.77825],[36.12664,-86.77731],[36...</td>\n",
       "      <td>2019-06-02 08:05:02.987000</td>\n",
       "    </tr>\n",
       "    <tr>\n",
       "      <th>224967</th>\n",
       "      <td>2019-06-01 23:50:42.480000</td>\n",
       "      <td>Lime</td>\n",
       "      <td>LIM5412</td>\n",
       "      <td>PoweredFXC5KHVLI3T7C</td>\n",
       "      <td>41.033333</td>\n",
       "      <td>21049.61280</td>\n",
       "      <td>2019-05-31 00:00:00</td>\n",
       "      <td>23:30:26</td>\n",
       "      <td>2019-06-01 00:00:00</td>\n",
       "      <td>00:11:28</td>\n",
       "      <td>36.126730</td>\n",
       "      <td>-86.778195</td>\n",
       "      <td>36.143140</td>\n",
       "      <td>-86.793125</td>\n",
       "      <td>[[36.12673,-86.77819],[36.126740000000005,-86....</td>\n",
       "      <td>2019-06-02 08:05:02.957000</td>\n",
       "    </tr>\n",
       "    <tr>\n",
       "      <th>224968</th>\n",
       "      <td>2019-06-13 05:17:41.630000</td>\n",
       "      <td>SPIN</td>\n",
       "      <td>SPI146</td>\n",
       "      <td>Powered5750098</td>\n",
       "      <td>36206.000000</td>\n",
       "      <td>21551.83796</td>\n",
       "      <td>2019-05-19 00:00:00</td>\n",
       "      <td>01:49:22</td>\n",
       "      <td>2019-06-13 00:00:00</td>\n",
       "      <td>05:14:40</td>\n",
       "      <td>36.148668</td>\n",
       "      <td>-86.813511</td>\n",
       "      <td>36.147776</td>\n",
       "      <td>-86.740437</td>\n",
       "      <td>[[36.147775779365219,-86.740436729892863],[36....</td>\n",
       "      <td>2019-06-14 09:36:56.957000</td>\n",
       "    </tr>\n",
       "  </tbody>\n",
       "</table>\n",
       "</div>"
      ],
      "text/plain": [
       "                      pubTimeStamp companyName tripRecordNum  \\\n",
       "224964  2019-06-01 23:50:42.373000        Lime       LIM5241   \n",
       "224965  2019-06-01 23:50:42.397000        Lime       LIM5285   \n",
       "224966  2019-06-01 23:50:42.480000        Lime       LIM5413   \n",
       "224967  2019-06-01 23:50:42.480000        Lime       LIM5412   \n",
       "224968  2019-06-13 05:17:41.630000        SPIN        SPI146   \n",
       "\n",
       "                      sumdID  tripDuration  tripDistance            startDate  \\\n",
       "224964  PoweredJ6OI7QJIK4NO2     62.316667       0.00000  2019-05-31 00:00:00   \n",
       "224965  PoweredQDVYGLDL6ZQDU     22.383333    9337.15680  2019-05-31 00:00:00   \n",
       "224966  PoweredH5HCTZB5WVABT     40.200000   20951.18880  2019-05-31 00:00:00   \n",
       "224967  PoweredFXC5KHVLI3T7C     41.033333   21049.61280  2019-05-31 00:00:00   \n",
       "224968        Powered5750098  36206.000000   21551.83796  2019-05-19 00:00:00   \n",
       "\n",
       "       startTime              endDate   endTime  startLatitude  \\\n",
       "224964  23:16:25  2019-06-01 00:00:00  00:18:44      36.131741   \n",
       "224965  23:59:45  2019-06-01 00:00:00  00:22:08      36.126207   \n",
       "224966  23:31:19  2019-06-01 00:00:00  00:11:31      36.126730   \n",
       "224967  23:30:26  2019-06-01 00:00:00  00:11:28      36.126730   \n",
       "224968  01:49:22  2019-06-13 00:00:00  05:14:40      36.148668   \n",
       "\n",
       "        startLongitude  endLatitude  endLongitude  \\\n",
       "224964      -86.779007    36.155466    -86.779859   \n",
       "224965      -86.789366    36.149205    -86.786162   \n",
       "224966      -86.778251    36.143138    -86.793144   \n",
       "224967      -86.778195    36.143140    -86.793125   \n",
       "224968      -86.813511    36.147776    -86.740437   \n",
       "\n",
       "                                                tripRoute  \\\n",
       "224964                              [[36.1317,-86.77903]]   \n",
       "224965  [[36.12621,-86.78937],[36.125840000000004,-86....   \n",
       "224966  [[36.12673,-86.77825],[36.12664,-86.77731],[36...   \n",
       "224967  [[36.12673,-86.77819],[36.126740000000005,-86....   \n",
       "224968  [[36.147775779365219,-86.740436729892863],[36....   \n",
       "\n",
       "                         create_dt  \n",
       "224964  2019-06-02 08:04:56.923000  \n",
       "224965  2019-06-02 08:04:58.683000  \n",
       "224966  2019-06-02 08:05:02.987000  \n",
       "224967  2019-06-02 08:05:02.957000  \n",
       "224968  2019-06-14 09:36:56.957000  "
      ]
     },
     "execution_count": 16,
     "metadata": {},
     "output_type": "execute_result"
    }
   ],
   "source": [
    "trip_may.tail()"
   ]
  },
  {
   "cell_type": "code",
   "execution_count": 17,
   "metadata": {},
   "outputs": [
    {
     "data": {
      "text/plain": [
       "count    2.249690e+05\n",
       "mean     4.068519e+03\n",
       "std      2.605852e+04\n",
       "min     -2.758530e+06\n",
       "25%      3.380232e+02\n",
       "50%      1.640420e+03\n",
       "75%      5.488845e+03\n",
       "max      7.580026e+06\n",
       "Name: tripDistance, dtype: float64"
      ]
     },
     "execution_count": 17,
     "metadata": {},
     "output_type": "execute_result"
    }
   ],
   "source": [
    "trip_may['tripDistance'].describe()"
   ]
  },
  {
   "cell_type": "code",
   "execution_count": 18,
   "metadata": {},
   "outputs": [
    {
     "data": {
      "text/plain": [
       "count    224969.000000\n",
       "mean         42.701454\n",
       "std         270.980984\n",
       "min           0.000000\n",
       "25%           5.050000\n",
       "50%          10.116667\n",
       "75%          20.000000\n",
       "max       36206.000000\n",
       "Name: tripDuration, dtype: float64"
      ]
     },
     "execution_count": 18,
     "metadata": {},
     "output_type": "execute_result"
    }
   ],
   "source": [
    "trip_may['tripDuration'].describe()"
   ]
  },
  {
   "cell_type": "code",
   "execution_count": 19,
   "metadata": {},
   "outputs": [
    {
     "data": {
      "text/plain": [
       "count    2.056270e+05\n",
       "mean     5.254084e+03\n",
       "std      4.370924e+04\n",
       "min     -5.157480e+05\n",
       "25%      9.481628e+02\n",
       "50%      3.323491e+03\n",
       "75%      6.952015e+03\n",
       "max      1.848950e+07\n",
       "Name: tripDistance, dtype: float64"
      ]
     },
     "execution_count": 19,
     "metadata": {},
     "output_type": "execute_result"
    }
   ],
   "source": [
    "trip_june['tripDistance'].describe()"
   ]
  },
  {
   "cell_type": "code",
   "execution_count": 20,
   "metadata": {},
   "outputs": [
    {
     "data": {
      "text/plain": [
       "count    205627.000000\n",
       "mean         81.454936\n",
       "std         431.513564\n",
       "min          -8.003717\n",
       "25%           5.000000\n",
       "50%          10.000000\n",
       "75%          20.000000\n",
       "max       11836.000000\n",
       "Name: tripDuration, dtype: float64"
      ]
     },
     "execution_count": 20,
     "metadata": {},
     "output_type": "execute_result"
    }
   ],
   "source": [
    "trip_june['tripDuration'].describe()"
   ]
  },
  {
   "cell_type": "code",
   "execution_count": 21,
   "metadata": {},
   "outputs": [
    {
     "data": {
      "text/plain": [
       "count    1.349260e+05\n",
       "mean     5.333994e+03\n",
       "std      1.406051e+05\n",
       "min     -2.032480e+07\n",
       "25%      3.280840e+02\n",
       "50%      2.956037e+03\n",
       "75%      6.916011e+03\n",
       "max      3.188448e+07\n",
       "Name: tripDistance, dtype: float64"
      ]
     },
     "execution_count": 21,
     "metadata": {},
     "output_type": "execute_result"
    }
   ],
   "source": [
    "trip_july['tripDistance'].describe()"
   ]
  },
  {
   "cell_type": "code",
   "execution_count": 22,
   "metadata": {},
   "outputs": [
    {
     "data": {
      "text/plain": [
       "count    134926.000000\n",
       "mean         97.097264\n",
       "std        1722.548585\n",
       "min         -19.358267\n",
       "25%           5.000000\n",
       "50%          10.148442\n",
       "75%          21.250550\n",
       "max      512619.000000\n",
       "Name: tripDuration, dtype: float64"
      ]
     },
     "execution_count": 22,
     "metadata": {},
     "output_type": "execute_result"
    }
   ],
   "source": [
    "trip_july['tripDuration'].describe()"
   ]
  },
  {
   "cell_type": "code",
   "execution_count": 23,
   "metadata": {},
   "outputs": [
    {
     "name": "stdout",
     "output_type": "stream",
     "text": [
      "<class 'pandas.core.frame.DataFrame'>\n",
      "RangeIndex: 224969 entries, 0 to 224968\n",
      "Data columns (total 16 columns):\n",
      " #   Column          Non-Null Count   Dtype  \n",
      "---  ------          --------------   -----  \n",
      " 0   pubTimeStamp    224969 non-null  object \n",
      " 1   companyName     224969 non-null  object \n",
      " 2   tripRecordNum   224969 non-null  object \n",
      " 3   sumdID          224969 non-null  object \n",
      " 4   tripDuration    224969 non-null  float64\n",
      " 5   tripDistance    224969 non-null  float64\n",
      " 6   startDate       224969 non-null  object \n",
      " 7   startTime       224969 non-null  object \n",
      " 8   endDate         224969 non-null  object \n",
      " 9   endTime         224969 non-null  object \n",
      " 10  startLatitude   224969 non-null  float64\n",
      " 11  startLongitude  224969 non-null  float64\n",
      " 12  endLatitude     224969 non-null  float64\n",
      " 13  endLongitude    224969 non-null  float64\n",
      " 14  tripRoute       224969 non-null  object \n",
      " 15  create_dt       224969 non-null  object \n",
      "dtypes: float64(6), object(10)\n",
      "memory usage: 27.5+ MB\n"
     ]
    }
   ],
   "source": [
    "trip_may.info()"
   ]
  },
  {
   "cell_type": "code",
   "execution_count": 24,
   "metadata": {},
   "outputs": [
    {
     "name": "stdout",
     "output_type": "stream",
     "text": [
      "<class 'pandas.core.frame.DataFrame'>\n",
      "RangeIndex: 205627 entries, 0 to 205626\n",
      "Data columns (total 16 columns):\n",
      " #   Column          Non-Null Count   Dtype  \n",
      "---  ------          --------------   -----  \n",
      " 0   pubTimeStamp    205627 non-null  object \n",
      " 1   companyName     205627 non-null  object \n",
      " 2   tripRecordNum   205627 non-null  object \n",
      " 3   sumdID          205627 non-null  object \n",
      " 4   tripDuration    205627 non-null  float64\n",
      " 5   tripDistance    205627 non-null  float64\n",
      " 6   startDate       205627 non-null  object \n",
      " 7   startTime       205627 non-null  object \n",
      " 8   endDate         205627 non-null  object \n",
      " 9   endTime         205627 non-null  object \n",
      " 10  startLatitude   205627 non-null  float64\n",
      " 11  startLongitude  205627 non-null  float64\n",
      " 12  endLatitude     205627 non-null  float64\n",
      " 13  endLongitude    205627 non-null  float64\n",
      " 14  tripRoute       205627 non-null  object \n",
      " 15  create_dt       205627 non-null  object \n",
      "dtypes: float64(6), object(10)\n",
      "memory usage: 25.1+ MB\n"
     ]
    }
   ],
   "source": [
    "trip_june.info()"
   ]
  },
  {
   "cell_type": "code",
   "execution_count": 25,
   "metadata": {},
   "outputs": [
    {
     "name": "stdout",
     "output_type": "stream",
     "text": [
      "<class 'pandas.core.frame.DataFrame'>\n",
      "RangeIndex: 134926 entries, 0 to 134925\n",
      "Data columns (total 16 columns):\n",
      " #   Column          Non-Null Count   Dtype  \n",
      "---  ------          --------------   -----  \n",
      " 0   pubTimeStamp    134926 non-null  object \n",
      " 1   companyName     134926 non-null  object \n",
      " 2   tripRecordNum   134926 non-null  object \n",
      " 3   sumdID          134926 non-null  object \n",
      " 4   tripDuration    134926 non-null  float64\n",
      " 5   tripDistance    134926 non-null  float64\n",
      " 6   startDate       134926 non-null  object \n",
      " 7   startTime       134926 non-null  object \n",
      " 8   endDate         134926 non-null  object \n",
      " 9   endTime         134926 non-null  object \n",
      " 10  startLatitude   134926 non-null  float64\n",
      " 11  startLongitude  134926 non-null  float64\n",
      " 12  endLatitude     134926 non-null  float64\n",
      " 13  endLongitude    134926 non-null  float64\n",
      " 14  tripRoute       134926 non-null  object \n",
      " 15  create_dt       134926 non-null  object \n",
      "dtypes: float64(6), object(10)\n",
      "memory usage: 16.5+ MB\n"
     ]
    }
   ],
   "source": [
    "trip_july.info()"
   ]
  },
  {
   "cell_type": "code",
   "execution_count": 26,
   "metadata": {},
   "outputs": [],
   "source": [
    "frames = [trip_may, trip_june, trip_july]\n",
    "trips = pd.concat(frames)\n",
    "trips.reset_index(drop=True, inplace=True)"
   ]
  },
  {
   "cell_type": "code",
   "execution_count": 27,
   "metadata": {},
   "outputs": [
    {
     "data": {
      "text/html": [
       "<div>\n",
       "<style scoped>\n",
       "    .dataframe tbody tr th:only-of-type {\n",
       "        vertical-align: middle;\n",
       "    }\n",
       "\n",
       "    .dataframe tbody tr th {\n",
       "        vertical-align: top;\n",
       "    }\n",
       "\n",
       "    .dataframe thead th {\n",
       "        text-align: right;\n",
       "    }\n",
       "</style>\n",
       "<table border=\"1\" class=\"dataframe\">\n",
       "  <thead>\n",
       "    <tr style=\"text-align: right;\">\n",
       "      <th></th>\n",
       "      <th>tripDuration</th>\n",
       "      <th>tripDistance</th>\n",
       "      <th>startLatitude</th>\n",
       "      <th>startLongitude</th>\n",
       "      <th>endLatitude</th>\n",
       "      <th>endLongitude</th>\n",
       "    </tr>\n",
       "  </thead>\n",
       "  <tbody>\n",
       "    <tr>\n",
       "      <th>count</th>\n",
       "      <td>565522.000000</td>\n",
       "      <td>5.655220e+05</td>\n",
       "      <td>565522.000000</td>\n",
       "      <td>565522.000000</td>\n",
       "      <td>565522.000000</td>\n",
       "      <td>565522.000000</td>\n",
       "    </tr>\n",
       "    <tr>\n",
       "      <th>mean</th>\n",
       "      <td>69.770554</td>\n",
       "      <td>4.801522e+03</td>\n",
       "      <td>36.155837</td>\n",
       "      <td>-86.784535</td>\n",
       "      <td>36.156064</td>\n",
       "      <td>-86.784590</td>\n",
       "    </tr>\n",
       "    <tr>\n",
       "      <th>std</th>\n",
       "      <td>897.418039</td>\n",
       "      <td>7.537860e+04</td>\n",
       "      <td>0.012421</td>\n",
       "      <td>0.013909</td>\n",
       "      <td>0.118126</td>\n",
       "      <td>0.417103</td>\n",
       "    </tr>\n",
       "    <tr>\n",
       "      <th>min</th>\n",
       "      <td>-19.358267</td>\n",
       "      <td>-2.032480e+07</td>\n",
       "      <td>35.853200</td>\n",
       "      <td>-86.918008</td>\n",
       "      <td>-36.850405</td>\n",
       "      <td>-122.673729</td>\n",
       "    </tr>\n",
       "    <tr>\n",
       "      <th>25%</th>\n",
       "      <td>5.000000</td>\n",
       "      <td>4.265040e+02</td>\n",
       "      <td>36.150370</td>\n",
       "      <td>-86.792000</td>\n",
       "      <td>36.150600</td>\n",
       "      <td>-86.792000</td>\n",
       "    </tr>\n",
       "    <tr>\n",
       "      <th>50%</th>\n",
       "      <td>10.066667</td>\n",
       "      <td>2.624672e+03</td>\n",
       "      <td>36.156969</td>\n",
       "      <td>-86.781775</td>\n",
       "      <td>36.157500</td>\n",
       "      <td>-86.781517</td>\n",
       "    </tr>\n",
       "    <tr>\n",
       "      <th>75%</th>\n",
       "      <td>20.236800</td>\n",
       "      <td>6.443491e+03</td>\n",
       "      <td>36.162883</td>\n",
       "      <td>-86.776430</td>\n",
       "      <td>36.162879</td>\n",
       "      <td>-86.776333</td>\n",
       "    </tr>\n",
       "    <tr>\n",
       "      <th>max</th>\n",
       "      <td>512619.000000</td>\n",
       "      <td>3.188448e+07</td>\n",
       "      <td>36.300029</td>\n",
       "      <td>-86.366200</td>\n",
       "      <td>51.045409</td>\n",
       "      <td>174.764886</td>\n",
       "    </tr>\n",
       "  </tbody>\n",
       "</table>\n",
       "</div>"
      ],
      "text/plain": [
       "        tripDuration  tripDistance  startLatitude  startLongitude  \\\n",
       "count  565522.000000  5.655220e+05  565522.000000   565522.000000   \n",
       "mean       69.770554  4.801522e+03      36.155837      -86.784535   \n",
       "std       897.418039  7.537860e+04       0.012421        0.013909   \n",
       "min       -19.358267 -2.032480e+07      35.853200      -86.918008   \n",
       "25%         5.000000  4.265040e+02      36.150370      -86.792000   \n",
       "50%        10.066667  2.624672e+03      36.156969      -86.781775   \n",
       "75%        20.236800  6.443491e+03      36.162883      -86.776430   \n",
       "max    512619.000000  3.188448e+07      36.300029      -86.366200   \n",
       "\n",
       "         endLatitude   endLongitude  \n",
       "count  565522.000000  565522.000000  \n",
       "mean       36.156064     -86.784590  \n",
       "std         0.118126       0.417103  \n",
       "min       -36.850405    -122.673729  \n",
       "25%        36.150600     -86.792000  \n",
       "50%        36.157500     -86.781517  \n",
       "75%        36.162879     -86.776333  \n",
       "max        51.045409     174.764886  "
      ]
     },
     "execution_count": 27,
     "metadata": {},
     "output_type": "execute_result"
    }
   ],
   "source": [
    "trips.describe()"
   ]
  },
  {
   "cell_type": "code",
   "execution_count": 28,
   "metadata": {},
   "outputs": [
    {
     "data": {
      "text/html": [
       "<div>\n",
       "<style scoped>\n",
       "    .dataframe tbody tr th:only-of-type {\n",
       "        vertical-align: middle;\n",
       "    }\n",
       "\n",
       "    .dataframe tbody tr th {\n",
       "        vertical-align: top;\n",
       "    }\n",
       "\n",
       "    .dataframe thead th {\n",
       "        text-align: right;\n",
       "    }\n",
       "</style>\n",
       "<table border=\"1\" class=\"dataframe\">\n",
       "  <thead>\n",
       "    <tr style=\"text-align: right;\">\n",
       "      <th></th>\n",
       "      <th>pubTimeStamp</th>\n",
       "      <th>companyName</th>\n",
       "      <th>tripRecordNum</th>\n",
       "      <th>sumdID</th>\n",
       "      <th>tripDuration</th>\n",
       "      <th>tripDistance</th>\n",
       "      <th>startDate</th>\n",
       "      <th>startTime</th>\n",
       "      <th>endDate</th>\n",
       "      <th>endTime</th>\n",
       "      <th>startLatitude</th>\n",
       "      <th>startLongitude</th>\n",
       "      <th>endLatitude</th>\n",
       "      <th>endLongitude</th>\n",
       "      <th>tripRoute</th>\n",
       "      <th>create_dt</th>\n",
       "    </tr>\n",
       "  </thead>\n",
       "  <tbody>\n",
       "    <tr>\n",
       "      <th>0</th>\n",
       "      <td>2019-05-01 00:00:55.423000</td>\n",
       "      <td>Bird</td>\n",
       "      <td>BRD2134</td>\n",
       "      <td>Powered9EAJL</td>\n",
       "      <td>3.0000</td>\n",
       "      <td>958.00528</td>\n",
       "      <td>2019-05-01 00:00:00</td>\n",
       "      <td>00:00:20.460000</td>\n",
       "      <td>2019-05-01 00:00:00</td>\n",
       "      <td>00:02:52.346666</td>\n",
       "      <td>36.15710</td>\n",
       "      <td>-86.80360</td>\n",
       "      <td>36.15660</td>\n",
       "      <td>-86.80670</td>\n",
       "      <td>[[36.157235,-86.803612],[36.157235,-86.80362],...</td>\n",
       "      <td>2019-05-02 05:30:23.780000</td>\n",
       "    </tr>\n",
       "    <tr>\n",
       "      <th>1</th>\n",
       "      <td>2019-05-01 00:03:33.147000</td>\n",
       "      <td>Lyft</td>\n",
       "      <td>LFT5</td>\n",
       "      <td>Powered296631</td>\n",
       "      <td>1.7156</td>\n",
       "      <td>1371.39112</td>\n",
       "      <td>2019-05-01 00:00:00</td>\n",
       "      <td>00:01:50.090000</td>\n",
       "      <td>2019-05-01 00:00:00</td>\n",
       "      <td>00:03:33.026666</td>\n",
       "      <td>36.15797</td>\n",
       "      <td>-86.77896</td>\n",
       "      <td>36.16054</td>\n",
       "      <td>-86.77689</td>\n",
       "      <td>[[36.15797,-86.77896],[36.15795,-86.77873],[36...</td>\n",
       "      <td>2019-05-02 07:20:32.757000</td>\n",
       "    </tr>\n",
       "  </tbody>\n",
       "</table>\n",
       "</div>"
      ],
      "text/plain": [
       "                 pubTimeStamp companyName tripRecordNum         sumdID  \\\n",
       "0  2019-05-01 00:00:55.423000        Bird       BRD2134   Powered9EAJL   \n",
       "1  2019-05-01 00:03:33.147000        Lyft          LFT5  Powered296631   \n",
       "\n",
       "   tripDuration  tripDistance            startDate        startTime  \\\n",
       "0        3.0000     958.00528  2019-05-01 00:00:00  00:00:20.460000   \n",
       "1        1.7156    1371.39112  2019-05-01 00:00:00  00:01:50.090000   \n",
       "\n",
       "               endDate          endTime  startLatitude  startLongitude  \\\n",
       "0  2019-05-01 00:00:00  00:02:52.346666       36.15710       -86.80360   \n",
       "1  2019-05-01 00:00:00  00:03:33.026666       36.15797       -86.77896   \n",
       "\n",
       "   endLatitude  endLongitude  \\\n",
       "0     36.15660     -86.80670   \n",
       "1     36.16054     -86.77689   \n",
       "\n",
       "                                           tripRoute  \\\n",
       "0  [[36.157235,-86.803612],[36.157235,-86.80362],...   \n",
       "1  [[36.15797,-86.77896],[36.15795,-86.77873],[36...   \n",
       "\n",
       "                    create_dt  \n",
       "0  2019-05-02 05:30:23.780000  \n",
       "1  2019-05-02 07:20:32.757000  "
      ]
     },
     "execution_count": 28,
     "metadata": {},
     "output_type": "execute_result"
    }
   ],
   "source": [
    "trips.head(2)"
   ]
  },
  {
   "cell_type": "code",
   "execution_count": 29,
   "metadata": {},
   "outputs": [
    {
     "data": {
      "text/plain": [
       "array(['Bird', 'Lyft', 'Lime', 'SPIN', 'JUMP', 'Gotcha', 'Bolt Mobility'],\n",
       "      dtype=object)"
      ]
     },
     "execution_count": 29,
     "metadata": {},
     "output_type": "execute_result"
    }
   ],
   "source": [
    "trips.companyName.unique()"
   ]
  },
  {
   "cell_type": "code",
   "execution_count": 30,
   "metadata": {},
   "outputs": [],
   "source": [
    "bird_trips = trips.loc[trips['companyName'] == 'Bird']\n",
    "lyft_trips = trips.loc[trips['companyName'] == 'Lyft']\n",
    "lime_trips = trips.loc[trips['companyName'] == 'Lime']\n",
    "spin_trips = trips.loc[trips['companyName'] == 'SPIN']\n",
    "jump_trips = trips.loc[trips['companyName'] == 'JUMP']\n",
    "gotcha_trips = trips.loc[trips['companyName'] == 'Gotcha']\n",
    "bolt_trips = trips.loc[trips['companyName'] == 'Bolt Mobility']"
   ]
  },
  {
   "cell_type": "code",
   "execution_count": 31,
   "metadata": {},
   "outputs": [
    {
     "data": {
      "text/plain": [
       "count    152745.000000\n",
       "mean         13.396196\n",
       "std          18.984037\n",
       "min           0.000000\n",
       "25%           5.000000\n",
       "50%           9.000000\n",
       "75%          17.000000\n",
       "max        1428.000000\n",
       "Name: tripDuration, dtype: float64"
      ]
     },
     "execution_count": 31,
     "metadata": {},
     "output_type": "execute_result"
    }
   ],
   "source": [
    "bird_trips['tripDuration'].describe()"
   ]
  },
  {
   "cell_type": "code",
   "execution_count": 32,
   "metadata": {},
   "outputs": [
    {
     "data": {
      "text/html": [
       "<div>\n",
       "<style scoped>\n",
       "    .dataframe tbody tr th:only-of-type {\n",
       "        vertical-align: middle;\n",
       "    }\n",
       "\n",
       "    .dataframe tbody tr th {\n",
       "        vertical-align: top;\n",
       "    }\n",
       "\n",
       "    .dataframe thead th {\n",
       "        text-align: right;\n",
       "    }\n",
       "</style>\n",
       "<table border=\"1\" class=\"dataframe\">\n",
       "  <thead>\n",
       "    <tr style=\"text-align: right;\">\n",
       "      <th></th>\n",
       "      <th>pubTimeStamp</th>\n",
       "      <th>companyName</th>\n",
       "      <th>tripRecordNum</th>\n",
       "      <th>sumdID</th>\n",
       "      <th>tripDuration</th>\n",
       "      <th>tripDistance</th>\n",
       "      <th>startDate</th>\n",
       "      <th>startTime</th>\n",
       "      <th>endDate</th>\n",
       "      <th>endTime</th>\n",
       "      <th>startLatitude</th>\n",
       "      <th>startLongitude</th>\n",
       "      <th>endLatitude</th>\n",
       "      <th>endLongitude</th>\n",
       "      <th>tripRoute</th>\n",
       "      <th>create_dt</th>\n",
       "    </tr>\n",
       "  </thead>\n",
       "  <tbody>\n",
       "    <tr>\n",
       "      <th>509407</th>\n",
       "      <td>2019-07-19 00:14:02.297000</td>\n",
       "      <td>Lyft</td>\n",
       "      <td>LFT21</td>\n",
       "      <td>Powered853770</td>\n",
       "      <td>-19.358267</td>\n",
       "      <td>4540.68256</td>\n",
       "      <td>2019-07-19 00:00:00</td>\n",
       "      <td>00:09:04.506666</td>\n",
       "      <td>2019-07-18 00:00:00</td>\n",
       "      <td>23:49:43.013333</td>\n",
       "      <td>36.15505</td>\n",
       "      <td>-86.78482</td>\n",
       "      <td>36.14690</td>\n",
       "      <td>-86.79355</td>\n",
       "      <td>[[36.15505,-86.78482],[36.15511,-86.78482],[36...</td>\n",
       "      <td>2019-07-20 10:52:39.737000</td>\n",
       "    </tr>\n",
       "    <tr>\n",
       "      <th>509400</th>\n",
       "      <td>2019-07-19 00:12:05.363000</td>\n",
       "      <td>Lyft</td>\n",
       "      <td>LFT18</td>\n",
       "      <td>Powered863342</td>\n",
       "      <td>-10.975100</td>\n",
       "      <td>3641.73240</td>\n",
       "      <td>2019-07-19 00:00:00</td>\n",
       "      <td>00:00:24.016666</td>\n",
       "      <td>2019-07-18 00:00:00</td>\n",
       "      <td>23:49:25.513333</td>\n",
       "      <td>36.15694</td>\n",
       "      <td>-86.78104</td>\n",
       "      <td>36.16305</td>\n",
       "      <td>-86.77605</td>\n",
       "      <td>[[36.15694,-86.78104],[36.1571,-86.78111],[36....</td>\n",
       "      <td>2019-07-20 10:52:39.657000</td>\n",
       "    </tr>\n",
       "    <tr>\n",
       "      <th>509353</th>\n",
       "      <td>2019-07-19 00:01:24.063000</td>\n",
       "      <td>Lyft</td>\n",
       "      <td>LFT2</td>\n",
       "      <td>Powered859498</td>\n",
       "      <td>-10.242417</td>\n",
       "      <td>52.49344</td>\n",
       "      <td>2019-07-18 00:00:00</td>\n",
       "      <td>23:59:35.683333</td>\n",
       "      <td>2019-07-18 00:00:00</td>\n",
       "      <td>23:49:21.136666</td>\n",
       "      <td>36.15163</td>\n",
       "      <td>-86.78418</td>\n",
       "      <td>36.15172</td>\n",
       "      <td>-86.78408</td>\n",
       "      <td>[[36.15163,-86.78418],[36.15167,-86.78413],[36...</td>\n",
       "      <td>2019-07-20 10:52:39.020000</td>\n",
       "    </tr>\n",
       "  </tbody>\n",
       "</table>\n",
       "</div>"
      ],
      "text/plain": [
       "                      pubTimeStamp companyName tripRecordNum         sumdID  \\\n",
       "509407  2019-07-19 00:14:02.297000        Lyft         LFT21  Powered853770   \n",
       "509400  2019-07-19 00:12:05.363000        Lyft         LFT18  Powered863342   \n",
       "509353  2019-07-19 00:01:24.063000        Lyft          LFT2  Powered859498   \n",
       "\n",
       "        tripDuration  tripDistance            startDate        startTime  \\\n",
       "509407    -19.358267    4540.68256  2019-07-19 00:00:00  00:09:04.506666   \n",
       "509400    -10.975100    3641.73240  2019-07-19 00:00:00  00:00:24.016666   \n",
       "509353    -10.242417      52.49344  2019-07-18 00:00:00  23:59:35.683333   \n",
       "\n",
       "                    endDate          endTime  startLatitude  startLongitude  \\\n",
       "509407  2019-07-18 00:00:00  23:49:43.013333       36.15505       -86.78482   \n",
       "509400  2019-07-18 00:00:00  23:49:25.513333       36.15694       -86.78104   \n",
       "509353  2019-07-18 00:00:00  23:49:21.136666       36.15163       -86.78418   \n",
       "\n",
       "        endLatitude  endLongitude  \\\n",
       "509407     36.14690     -86.79355   \n",
       "509400     36.16305     -86.77605   \n",
       "509353     36.15172     -86.78408   \n",
       "\n",
       "                                                tripRoute  \\\n",
       "509407  [[36.15505,-86.78482],[36.15511,-86.78482],[36...   \n",
       "509400  [[36.15694,-86.78104],[36.1571,-86.78111],[36....   \n",
       "509353  [[36.15163,-86.78418],[36.15167,-86.78413],[36...   \n",
       "\n",
       "                         create_dt  \n",
       "509407  2019-07-20 10:52:39.737000  \n",
       "509400  2019-07-20 10:52:39.657000  \n",
       "509353  2019-07-20 10:52:39.020000  "
      ]
     },
     "execution_count": 32,
     "metadata": {},
     "output_type": "execute_result"
    }
   ],
   "source": [
    "lyft_trips.sort_values('tripDuration').head(3)"
   ]
  },
  {
   "cell_type": "code",
   "execution_count": 33,
   "metadata": {},
   "outputs": [
    {
     "name": "stdout",
     "output_type": "stream",
     "text": [
      "<class 'pandas.core.frame.DataFrame'>\n",
      "Int64Index: 152745 entries, 0 to 565464\n",
      "Data columns (total 16 columns):\n",
      " #   Column          Non-Null Count   Dtype  \n",
      "---  ------          --------------   -----  \n",
      " 0   pubTimeStamp    152745 non-null  object \n",
      " 1   companyName     152745 non-null  object \n",
      " 2   tripRecordNum   152745 non-null  object \n",
      " 3   sumdID          152745 non-null  object \n",
      " 4   tripDuration    152745 non-null  float64\n",
      " 5   tripDistance    152745 non-null  float64\n",
      " 6   startDate       152745 non-null  object \n",
      " 7   startTime       152745 non-null  object \n",
      " 8   endDate         152745 non-null  object \n",
      " 9   endTime         152745 non-null  object \n",
      " 10  startLatitude   152745 non-null  float64\n",
      " 11  startLongitude  152745 non-null  float64\n",
      " 12  endLatitude     152745 non-null  float64\n",
      " 13  endLongitude    152745 non-null  float64\n",
      " 14  tripRoute       152745 non-null  object \n",
      " 15  create_dt       152745 non-null  object \n",
      "dtypes: float64(6), object(10)\n",
      "memory usage: 19.8+ MB\n"
     ]
    }
   ],
   "source": [
    "bird_trips.info()"
   ]
  },
  {
   "cell_type": "code",
   "execution_count": 34,
   "metadata": {},
   "outputs": [
    {
     "data": {
      "text/html": [
       "<div>\n",
       "<style scoped>\n",
       "    .dataframe tbody tr th:only-of-type {\n",
       "        vertical-align: middle;\n",
       "    }\n",
       "\n",
       "    .dataframe tbody tr th {\n",
       "        vertical-align: top;\n",
       "    }\n",
       "\n",
       "    .dataframe thead th {\n",
       "        text-align: right;\n",
       "    }\n",
       "</style>\n",
       "<table border=\"1\" class=\"dataframe\">\n",
       "  <thead>\n",
       "    <tr style=\"text-align: right;\">\n",
       "      <th></th>\n",
       "      <th>pubTimeStamp</th>\n",
       "      <th>companyName</th>\n",
       "      <th>tripRecordNum</th>\n",
       "      <th>sumdID</th>\n",
       "      <th>tripDuration</th>\n",
       "      <th>tripDistance</th>\n",
       "      <th>startDate</th>\n",
       "      <th>startTime</th>\n",
       "      <th>endDate</th>\n",
       "      <th>endTime</th>\n",
       "      <th>startLatitude</th>\n",
       "      <th>startLongitude</th>\n",
       "      <th>endLatitude</th>\n",
       "      <th>endLongitude</th>\n",
       "      <th>tripRoute</th>\n",
       "      <th>create_dt</th>\n",
       "    </tr>\n",
       "  </thead>\n",
       "  <tbody>\n",
       "    <tr>\n",
       "      <th>310688</th>\n",
       "      <td>2019-06-11 16:22:24.107000</td>\n",
       "      <td>Bird</td>\n",
       "      <td>BRD600</td>\n",
       "      <td>PoweredUNKNOWN</td>\n",
       "      <td>0.0</td>\n",
       "      <td>0.0</td>\n",
       "      <td>2019-06-11 00:00:00</td>\n",
       "      <td>16:23:31.763333</td>\n",
       "      <td>2019-06-11 00:00:00</td>\n",
       "      <td>16:23:41.900000</td>\n",
       "      <td>36.1499</td>\n",
       "      <td>-86.8145</td>\n",
       "      <td>36.1499</td>\n",
       "      <td>-86.8145</td>\n",
       "      <td>[]</td>\n",
       "      <td>2019-06-12 05:31:05.927000</td>\n",
       "    </tr>\n",
       "    <tr>\n",
       "      <th>309119</th>\n",
       "      <td>2019-06-11 02:06:46.847000</td>\n",
       "      <td>Bird</td>\n",
       "      <td>BRD3629</td>\n",
       "      <td>PoweredUNKNOWN</td>\n",
       "      <td>0.0</td>\n",
       "      <td>0.0</td>\n",
       "      <td>2019-06-11 00:00:00</td>\n",
       "      <td>02:07:00.626666</td>\n",
       "      <td>2019-06-11 00:00:00</td>\n",
       "      <td>02:07:12.283333</td>\n",
       "      <td>36.1603</td>\n",
       "      <td>-86.7785</td>\n",
       "      <td>36.1603</td>\n",
       "      <td>-86.7785</td>\n",
       "      <td>[]</td>\n",
       "      <td>2019-06-12 05:30:41.167000</td>\n",
       "    </tr>\n",
       "    <tr>\n",
       "      <th>309102</th>\n",
       "      <td>2019-06-11 02:01:46.480000</td>\n",
       "      <td>Bird</td>\n",
       "      <td>BRD3606</td>\n",
       "      <td>PoweredUNKNOWN</td>\n",
       "      <td>0.0</td>\n",
       "      <td>0.0</td>\n",
       "      <td>2019-06-11 00:00:00</td>\n",
       "      <td>02:02:12.036666</td>\n",
       "      <td>2019-06-11 00:00:00</td>\n",
       "      <td>02:02:42.076666</td>\n",
       "      <td>36.1640</td>\n",
       "      <td>-86.7695</td>\n",
       "      <td>36.1640</td>\n",
       "      <td>-86.7695</td>\n",
       "      <td>[]</td>\n",
       "      <td>2019-06-12 05:30:29.950000</td>\n",
       "    </tr>\n",
       "  </tbody>\n",
       "</table>\n",
       "</div>"
      ],
      "text/plain": [
       "                      pubTimeStamp companyName tripRecordNum          sumdID  \\\n",
       "310688  2019-06-11 16:22:24.107000        Bird        BRD600  PoweredUNKNOWN   \n",
       "309119  2019-06-11 02:06:46.847000        Bird       BRD3629  PoweredUNKNOWN   \n",
       "309102  2019-06-11 02:01:46.480000        Bird       BRD3606  PoweredUNKNOWN   \n",
       "\n",
       "        tripDuration  tripDistance            startDate        startTime  \\\n",
       "310688           0.0           0.0  2019-06-11 00:00:00  16:23:31.763333   \n",
       "309119           0.0           0.0  2019-06-11 00:00:00  02:07:00.626666   \n",
       "309102           0.0           0.0  2019-06-11 00:00:00  02:02:12.036666   \n",
       "\n",
       "                    endDate          endTime  startLatitude  startLongitude  \\\n",
       "310688  2019-06-11 00:00:00  16:23:41.900000        36.1499        -86.8145   \n",
       "309119  2019-06-11 00:00:00  02:07:12.283333        36.1603        -86.7785   \n",
       "309102  2019-06-11 00:00:00  02:02:42.076666        36.1640        -86.7695   \n",
       "\n",
       "        endLatitude  endLongitude tripRoute                   create_dt  \n",
       "310688      36.1499      -86.8145        []  2019-06-12 05:31:05.927000  \n",
       "309119      36.1603      -86.7785        []  2019-06-12 05:30:41.167000  \n",
       "309102      36.1640      -86.7695        []  2019-06-12 05:30:29.950000  "
      ]
     },
     "execution_count": 34,
     "metadata": {},
     "output_type": "execute_result"
    }
   ],
   "source": [
    "bird_trips.sort_values('tripDuration').head(3)"
   ]
  },
  {
   "cell_type": "code",
   "execution_count": 35,
   "metadata": {},
   "outputs": [],
   "source": [
    "negative_tripduration = trips.loc[trips['tripDuration'] < 0]\n",
    "# Lyft has 8 negative tripDuration values, each start and end date info was reversed."
   ]
  },
  {
   "cell_type": "code",
   "execution_count": 36,
   "metadata": {},
   "outputs": [
    {
     "data": {
      "text/plain": [
       "pubTimeStamp      120991\n",
       "companyName       120991\n",
       "tripRecordNum     120991\n",
       "sumdID            120991\n",
       "tripDuration      120991\n",
       "tripDistance      120991\n",
       "startDate         120991\n",
       "startTime         120991\n",
       "endDate           120991\n",
       "endTime           120991\n",
       "startLatitude     120991\n",
       "startLongitude    120991\n",
       "endLatitude       120991\n",
       "endLongitude      120991\n",
       "tripRoute         120991\n",
       "create_dt         120991\n",
       "dtype: int64"
      ]
     },
     "execution_count": 36,
     "metadata": {},
     "output_type": "execute_result"
    }
   ],
   "source": [
    "trips.loc[trips['companyName'] == 'Lyft'].count()"
   ]
  },
  {
   "cell_type": "code",
   "execution_count": 37,
   "metadata": {},
   "outputs": [],
   "source": [
    "# fig, (ax1, ax2, ax3, ax4, ax5, ax6, ax7) = plt.subplots(7, 1)\n",
    "\n",
    "# bird_trips.groupby('companyName')['tripDuration'].mean().sort_values().plot(kind='barh', ax=ax1)\n",
    "# lyft_trips.groupby('companyName')['tripDuration'].mean().sort_values().plot(kind='barh', ax=ax2)\n",
    "# lime_trips.groupby('companyName')['tripDuration'].mean().sort_values().plot(kind='barh', ax=ax3)\n",
    "# spin_trips.groupby('companyName')['tripDuration'].mean().sort_values().plot(kind='barh', ax=ax4)\n",
    "# jump_trips.groupby('companyName')['tripDuration'].mean().sort_values().plot(kind='barh', ax=ax5)\n",
    "# gotcha_trips.groupby('companyName')['tripDuration'].mean().sort_values().plot(kind='barh', ax=ax6)\n",
    "# bolt_trips.groupby('companyName')['tripDuration'].mean().sort_values().plot(kind='barh', ax=ax7)"
   ]
  },
  {
   "cell_type": "code",
   "execution_count": 38,
   "metadata": {},
   "outputs": [
    {
     "data": {
      "text/plain": [
       "16.004244376578896"
      ]
     },
     "execution_count": 38,
     "metadata": {},
     "output_type": "execute_result"
    }
   ],
   "source": [
    "lyft_trips['tripDuration'].mean()"
   ]
  },
  {
   "cell_type": "code",
   "execution_count": 39,
   "metadata": {},
   "outputs": [
    {
     "data": {
      "image/png": "[encoded data removed]",
      "text/plain": [
       "<Figure size 1440x1440 with 1 Axes>"
      ]
     },
     "metadata": {
      "needs_background": "light"
     },
     "output_type": "display_data"
    }
   ],
   "source": [
    "trips.groupby('companyName')['tripDuration'].mean().sort_values()\\\n",
    ".plot(kind='barh', figsize=(20,20), color = '#1F375D', fontsize = '22', title = 'Skewed by bolt in seconds May-July Trips by Company');"
   ]
  },
  {
   "cell_type": "code",
   "execution_count": 40,
   "metadata": {},
   "outputs": [],
   "source": [
    "duration_secs = trips.loc[trips['companyName'] == 'Bolt Mobility','tripDuration']\n",
    "convert_mins = duration_secs/60\n",
    "trips.loc[trips['companyName'] == 'Bolt Mobility','tripDuration'] = convert_mins"
   ]
  },
  {
   "cell_type": "code",
   "execution_count": 41,
   "metadata": {},
   "outputs": [
    {
     "data": {
      "image/png": "[encoded data removed]",
      "text/plain": [
       "<Figure size 1440x1440 with 1 Axes>"
      ]
     },
     "metadata": {
      "needs_background": "light"
     },
     "output_type": "display_data"
    }
   ],
   "source": [
    "trips.groupby('companyName')['tripDuration'].mean().sort_values()\\\n",
    ".plot(kind='barh', figsize=(20,20), color = '#1F375D', fontsize = '22', title = 'May-July Average Trip Duration by Company');"
   ]
  },
  {
   "cell_type": "code",
   "execution_count": 42,
   "metadata": {},
   "outputs": [],
   "source": [
    "duration_secs = trip_may.loc[trip_may['companyName'] == 'Bolt Mobility','tripDuration']\n",
    "convert_mins = duration_secs/60\n",
    "trip_may.loc[trip_may['companyName'] == 'Bolt Mobility','tripDuration'] = convert_mins"
   ]
  },
  {
   "cell_type": "code",
   "execution_count": 43,
   "metadata": {},
   "outputs": [
    {
     "data": {
      "image/png": "[encoded data removed]",
      "text/plain": [
       "<Figure size 1440x1440 with 1 Axes>"
      ]
     },
     "metadata": {
      "needs_background": "light"
     },
     "output_type": "display_data"
    }
   ],
   "source": [
    "trip_may.groupby('companyName')['tripDuration'].mean().sort_values()\\\n",
    ".plot(kind='barh', figsize=(20,20), color = '#1F375D', fontsize = '22', title = 'May Trips by Company');"
   ]
  },
  {
   "cell_type": "code",
   "execution_count": 44,
   "metadata": {},
   "outputs": [],
   "source": [
    "duration_secs = trip_june.loc[trip_june['companyName'] == 'Bolt Mobility','tripDuration']\n",
    "convert_mins = duration_secs/60\n",
    "trip_june.loc[trip_june['companyName'] == 'Bolt Mobility','tripDuration'] = convert_mins"
   ]
  },
  {
   "cell_type": "code",
   "execution_count": 45,
   "metadata": {},
   "outputs": [
    {
     "data": {
      "image/png": "[encoded data removed]",
      "text/plain": [
       "<Figure size 1440x1440 with 1 Axes>"
      ]
     },
     "metadata": {
      "needs_background": "light"
     },
     "output_type": "display_data"
    }
   ],
   "source": [
    "trip_june.groupby('companyName')['tripDuration'].mean().sort_values()\\\n",
    ".plot(kind='barh', figsize=(20,20),color = '#1F375D', fontsize = '22', title = 'June Trips by Company');"
   ]
  },
  {
   "cell_type": "code",
   "execution_count": 46,
   "metadata": {},
   "outputs": [],
   "source": [
    "duration_secs = trip_july.loc[trip_july['companyName'] == 'Bolt Mobility','tripDuration']\n",
    "convert_mins = duration_secs/60\n",
    "trip_july.loc[trip_july['companyName'] == 'Bolt Mobility','tripDuration'] = convert_mins"
   ]
  },
  {
   "cell_type": "code",
   "execution_count": 47,
   "metadata": {},
   "outputs": [
    {
     "data": {
      "image/png": "[encoded data removed]",
      "text/plain": [
       "<Figure size 1440x1440 with 1 Axes>"
      ]
     },
     "metadata": {
      "needs_background": "light"
     },
     "output_type": "display_data"
    }
   ],
   "source": [
    "trip_july.groupby('companyName')['tripDuration'].mean().sort_values()\\\n",
    ".plot(kind='barh', figsize=(20,20), color = '#1F375D', fontsize = '22', title = 'July Trips by Company');"
   ]
  },
  {
   "cell_type": "code",
   "execution_count": 48,
   "metadata": {},
   "outputs": [],
   "source": [
    "# data=trip_july.groupby('companyName')['tripDuration'].mean().sort_values() \n",
    "# ax = data.plot()\n",
    "# ax.set_xticks(dict)\n",
    "# ax.set_xticklabels(dict, rotation=90)\n"
   ]
  },
  {
   "cell_type": "code",
   "execution_count": 49,
   "metadata": {},
   "outputs": [],
   "source": [
    "# f, (ax1, ax2) = plt.subplots(nrows = 1, ncols = 2, sharey=True)\n",
    "# f.suptitle('Sharing Y axis')\n",
    "# ax1.plot(x, y)\n",
    "# ax2.scatter(x, y);"
   ]
  },
  {
   "cell_type": "code",
   "execution_count": 50,
   "metadata": {},
   "outputs": [],
   "source": [
    "# trips.groupby('companyName')['tripDuration'].mean().sort_values()\\\n",
    "# .plot(kind='barh', figsize=(20,20), color = '#1F375D', fontsize = '22'\\\n",
    "# , title = 'May-July Average Trip Duration by Company');"
   ]
  },
  {
   "cell_type": "code",
   "execution_count": 51,
   "metadata": {},
   "outputs": [
    {
     "data": {
      "text/plain": [
       "''"
      ]
     },
     "execution_count": 51,
     "metadata": {},
     "output_type": "execute_result"
    },
    {
     "data": {
      "image/png": "[encoded data removed]",
      "text/plain": [
       "<Figure size 1440x1440 with 1 Axes>"
      ]
     },
     "metadata": {
      "needs_background": "light"
     },
     "output_type": "display_data"
    }
   ],
   "source": [
    "#test\n",
    "f, (ax) = plt.subplots(nrows = 1, ncols = 1, sharex = True, figsize =(20,20))\n",
    "plt.rcParams.update({'font.size': 40})\n",
    "plt.xticks(fontsize=35)\n",
    "f.suptitle('May-July Average Trip Duration per Company')\n",
    "ax.barh(trips['companyName'].unique(),trips.groupby('companyName')\\\n",
    "         ['tripDuration'].mean().sort_values(), color = '#1F375D')\n",
    "f.text(0.5, 0.06, 'Average Trip in Minutes', ha='center', va='center')\n",
    "f.text(-.01, 0.5, 'Companies', ha='center', va='center', rotation='vertical')\n",
    ";"
   ]
  },
  {
   "cell_type": "code",
   "execution_count": 52,
   "metadata": {},
   "outputs": [
    {
     "data": {
      "text/plain": [
       "''"
      ]
     },
     "execution_count": 52,
     "metadata": {},
     "output_type": "execute_result"
    },
    {
     "data": {
      "image/png": "[encoded data removed]",
      "text/plain": [
       "<Figure size 1440x1440 with 3 Axes>"
      ]
     },
     "metadata": {
      "needs_background": "light"
     },
     "output_type": "display_data"
    }
   ],
   "source": [
    "f, (ax1, ax2, ax3) = plt.subplots(nrows = 3, ncols = 1, sharex = True, figsize =(20,20))\n",
    "plt.rcParams.update({'font.size': 30})\n",
    "f.suptitle('Average Trip Duration by Month per Company')\n",
    "ax1.barh(trip_may['companyName'].unique(),trip_may.groupby('companyName')\\\n",
    "         ['tripDuration'].mean().sort_values(), color = '#FFC027')\n",
    "ax2.barh(trip_june['companyName'].unique(),trip_june.groupby('companyName')\\\n",
    "         ['tripDuration'].mean().sort_values(), color = '#1F375D')\n",
    "ax3.barh(trip_july['companyName'].unique(),trip_july.groupby('companyName')\\\n",
    "         ['tripDuration'].mean().sort_values(), color = '#898D8E')\n",
    "ax1.set_title('May')\n",
    "ax2.set_title('June')\n",
    "ax3.set_title('July')\n",
    "f.text(0.5, 0.06, 'Average Trip in Minutes', ha='center', va='center')\n",
    "f.text(-.07, 0.5, 'Companies', ha='center', va='center', rotation='vertical')\n",
    "f.subplots_adjust(hspace=0.2)\n",
    ";"
   ]
  },
  {
   "cell_type": "code",
   "execution_count": 53,
   "metadata": {},
   "outputs": [
    {
     "data": {
      "text/html": [
       "<div>\n",
       "<style scoped>\n",
       "    .dataframe tbody tr th:only-of-type {\n",
       "        vertical-align: middle;\n",
       "    }\n",
       "\n",
       "    .dataframe tbody tr th {\n",
       "        vertical-align: top;\n",
       "    }\n",
       "\n",
       "    .dataframe thead th {\n",
       "        text-align: right;\n",
       "    }\n",
       "</style>\n",
       "<table border=\"1\" class=\"dataframe\">\n",
       "  <thead>\n",
       "    <tr style=\"text-align: right;\">\n",
       "      <th></th>\n",
       "      <th>pubTimeStamp</th>\n",
       "      <th>companyName</th>\n",
       "      <th>tripRecordNum</th>\n",
       "      <th>sumdID</th>\n",
       "      <th>tripDuration</th>\n",
       "      <th>tripDistance</th>\n",
       "      <th>startDate</th>\n",
       "      <th>startTime</th>\n",
       "      <th>endDate</th>\n",
       "      <th>endTime</th>\n",
       "      <th>startLatitude</th>\n",
       "      <th>startLongitude</th>\n",
       "      <th>endLatitude</th>\n",
       "      <th>endLongitude</th>\n",
       "      <th>tripRoute</th>\n",
       "      <th>create_dt</th>\n",
       "    </tr>\n",
       "  </thead>\n",
       "  <tbody>\n",
       "    <tr>\n",
       "      <th>0</th>\n",
       "      <td>2019-05-01 00:00:55.423000</td>\n",
       "      <td>Bird</td>\n",
       "      <td>BRD2134</td>\n",
       "      <td>Powered9EAJL</td>\n",
       "      <td>3.0000</td>\n",
       "      <td>958.00528</td>\n",
       "      <td>2019-05-01 00:00:00</td>\n",
       "      <td>00:00:20.460000</td>\n",
       "      <td>2019-05-01 00:00:00</td>\n",
       "      <td>00:02:52.346666</td>\n",
       "      <td>36.15710</td>\n",
       "      <td>-86.80360</td>\n",
       "      <td>36.15660</td>\n",
       "      <td>-86.80670</td>\n",
       "      <td>[[36.157235,-86.803612],[36.157235,-86.80362],...</td>\n",
       "      <td>2019-05-02 05:30:23.780000</td>\n",
       "    </tr>\n",
       "    <tr>\n",
       "      <th>1</th>\n",
       "      <td>2019-05-01 00:03:33.147000</td>\n",
       "      <td>Lyft</td>\n",
       "      <td>LFT5</td>\n",
       "      <td>Powered296631</td>\n",
       "      <td>1.7156</td>\n",
       "      <td>1371.39112</td>\n",
       "      <td>2019-05-01 00:00:00</td>\n",
       "      <td>00:01:50.090000</td>\n",
       "      <td>2019-05-01 00:00:00</td>\n",
       "      <td>00:03:33.026666</td>\n",
       "      <td>36.15797</td>\n",
       "      <td>-86.77896</td>\n",
       "      <td>36.16054</td>\n",
       "      <td>-86.77689</td>\n",
       "      <td>[[36.15797,-86.77896],[36.15795,-86.77873],[36...</td>\n",
       "      <td>2019-05-02 07:20:32.757000</td>\n",
       "    </tr>\n",
       "    <tr>\n",
       "      <th>2</th>\n",
       "      <td>2019-05-01 00:05:55.570000</td>\n",
       "      <td>Bird</td>\n",
       "      <td>BRD2168</td>\n",
       "      <td>Powered7S2UU</td>\n",
       "      <td>3.0000</td>\n",
       "      <td>2296.58800</td>\n",
       "      <td>2019-05-01 00:00:00</td>\n",
       "      <td>00:03:47.363333</td>\n",
       "      <td>2019-05-01 00:00:00</td>\n",
       "      <td>00:07:13.596666</td>\n",
       "      <td>36.15470</td>\n",
       "      <td>-86.78180</td>\n",
       "      <td>36.15650</td>\n",
       "      <td>-86.78680</td>\n",
       "      <td>[[36.155068,-86.782124],[36.156597,-86.78675]]</td>\n",
       "      <td>2019-05-02 05:30:24.530000</td>\n",
       "    </tr>\n",
       "  </tbody>\n",
       "</table>\n",
       "</div>"
      ],
      "text/plain": [
       "                 pubTimeStamp companyName tripRecordNum         sumdID  \\\n",
       "0  2019-05-01 00:00:55.423000        Bird       BRD2134   Powered9EAJL   \n",
       "1  2019-05-01 00:03:33.147000        Lyft          LFT5  Powered296631   \n",
       "2  2019-05-01 00:05:55.570000        Bird       BRD2168   Powered7S2UU   \n",
       "\n",
       "   tripDuration  tripDistance            startDate        startTime  \\\n",
       "0        3.0000     958.00528  2019-05-01 00:00:00  00:00:20.460000   \n",
       "1        1.7156    1371.39112  2019-05-01 00:00:00  00:01:50.090000   \n",
       "2        3.0000    2296.58800  2019-05-01 00:00:00  00:03:47.363333   \n",
       "\n",
       "               endDate          endTime  startLatitude  startLongitude  \\\n",
       "0  2019-05-01 00:00:00  00:02:52.346666       36.15710       -86.80360   \n",
       "1  2019-05-01 00:00:00  00:03:33.026666       36.15797       -86.77896   \n",
       "2  2019-05-01 00:00:00  00:07:13.596666       36.15470       -86.78180   \n",
       "\n",
       "   endLatitude  endLongitude  \\\n",
       "0     36.15660     -86.80670   \n",
       "1     36.16054     -86.77689   \n",
       "2     36.15650     -86.78680   \n",
       "\n",
       "                                           tripRoute  \\\n",
       "0  [[36.157235,-86.803612],[36.157235,-86.80362],...   \n",
       "1  [[36.15797,-86.77896],[36.15795,-86.77873],[36...   \n",
       "2     [[36.155068,-86.782124],[36.156597,-86.78675]]   \n",
       "\n",
       "                    create_dt  \n",
       "0  2019-05-02 05:30:23.780000  \n",
       "1  2019-05-02 07:20:32.757000  \n",
       "2  2019-05-02 05:30:24.530000  "
      ]
     },
     "execution_count": 53,
     "metadata": {},
     "output_type": "execute_result"
    }
   ],
   "source": [
    "trips.head(3)"
   ]
  },
  {
   "cell_type": "code",
   "execution_count": 54,
   "metadata": {},
   "outputs": [
    {
     "data": {
      "text/plain": [
       "companyName\n",
       "Gotcha             3315\n",
       "JUMP               6437\n",
       "Bolt Mobility     21890\n",
       "SPIN              34450\n",
       "Lyft             120991\n",
       "Bird             152745\n",
       "Lime             225694\n",
       "Name: tripRecordNum, dtype: int64"
      ]
     },
     "execution_count": 54,
     "metadata": {},
     "output_type": "execute_result"
    }
   ],
   "source": [
    "trips.groupby('companyName')['tripRecordNum'].count().sort_values()"
   ]
  },
  {
   "cell_type": "code",
   "execution_count": 55,
   "metadata": {},
   "outputs": [
    {
     "data": {
      "text/plain": [
       "companyName\n",
       "Gotcha             3315\n",
       "JUMP               6437\n",
       "Bolt Mobility     21890\n",
       "SPIN              34450\n",
       "Lyft             120991\n",
       "Bird             152745\n",
       "Lime             225694\n",
       "Name: sumdID, dtype: int64"
      ]
     },
     "execution_count": 55,
     "metadata": {},
     "output_type": "execute_result"
    }
   ],
   "source": [
    "trips.groupby('companyName')['sumdID'].count().sort_values()"
   ]
  },
  {
   "cell_type": "code",
   "execution_count": null,
   "metadata": {},
   "outputs": [],
   "source": []
  },
  {
   "cell_type": "code",
   "execution_count": null,
   "metadata": {},
   "outputs": [],
   "source": []
  }
 ],
 "metadata": {
  "kernelspec": {
   "display_name": "Python 3",
   "language": "python",
   "name": "python3"
  },
  "language_info": {
   "codemirror_mode": {
    "name": "ipython",
    "version": 3
   },
   "file_extension": ".py",
   "mimetype": "text/x-python",
   "name": "python",
   "nbconvert_exporter": "python",
   "pygments_lexer": "ipython3",
   "version": "3.8.3"
  }
 },
 "nbformat": 4,
 "nbformat_minor": 4
}
